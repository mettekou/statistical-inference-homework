{
    "cells": [
        {
            "cell_type": "markdown",
            "metadata": {},
            "source": [
                "1.\n",
                "    (a) Let $x_1,\\ldots,x_n$ be the realized (i.e. sample) values of the $X_1,\\ldots,X_n$ random variables. The likelihood function $L$ is:\n",
                "\n",
                "    $$L(\\mu_1,\\ldots,\\mu_k,\\sigma_1,\\ldots,\\sigma_k,p_1,\\ldots,p_k|x_1,\\ldots,x_n)=\\prod_{i=1}^n\\left(\\sum_{k=1}^K\\frac{p_k}{{\\sigma_k \\sqrt {2\\pi } }}e^{{\\frac{- \\left( {x_i-\\mu_k} \\right)^2 }{2\\sigma_k ^2 }}}\\right)$$\n",
                "\n",
                "    Which makes the log likelihood function $l$:\n",
                "\n",
                "    $$l(\\mu_1,\\ldots,\\mu_k,\\sigma_1,\\ldots,\\sigma_k,p_1,\\ldots,p_k|x_1,\\ldots,x_n)=\\sum_{i=1}^n\\log\\left(\\sum_{k=1}^K\\frac{p_k}{{\\sigma_k \\sqrt {2\\pi } }}e^{{\\frac{- \\left( {x_i-\\mu_k } \\right)^2 }{2\\sigma_k ^2 }}}\\right)$$\n",
                "\n",
                "    (b) In case of $K=2$ and for known $\\sigma_1$, $\\sigma_2$, $p_1$, and $p_2$, the log likelihood function $l$ degrades to:\n",
                "\n",
                "    $$l(\\mu_1,\\mu_2|x_1,\\ldots,x_n)=\\sum_{i=1}^n\\log\\left(\\frac{p_1}{{\\sigma_1 \\sqrt {2\\pi } }}e^{{\\frac{- \\left( {x_i-\\mu_1 } \\right)^2 }{2\\sigma_1 ^2 }}}+\\frac{p_2}{{\\sigma_2 \\sqrt {2\\pi } }}e^{{\\frac{- \\left( {x_i-\\mu_2 } \\right)^2 }{2\\sigma_2 ^2 }}}\\right)$$\n",
                "\n",
                "    Which makes the score functions in $\\mu_1$ and $\\mu_2$:\n",
                "\n",
                "    $$\\frac{\\partial l(\\mu_1,\\mu_2|x_1,\\ldots,x_n)}{\\partial\\mu_1}=\\sum_{i=1}^n\\frac{\\frac{p_1(x_i-\\mu_1)}{{\\sigma_1^3 \\sqrt {2\\pi } }}e^{{\\frac{- \\left( {x_i-\\mu_1 } \\right)^2 }{2\\sigma_1 ^2 }}}}{\\frac{p_1}{{\\sigma_1 \\sqrt {2\\pi } }}e^{{\\frac{- \\left( {x_i-\\mu_1 } \\right)^2 }{2\\sigma_1 ^2 }}}+\\frac{p_2}{{\\sigma_2 \\sqrt {2\\pi } }}e^{{\\frac{- \\left( {x_i-\\mu_2 } \\right)^2 }{2\\sigma_2 ^2 }}}}$$\n",
                "\n",
                "    $$\\frac{\\partial l(\\mu_1,\\mu_2|x_1,\\ldots,x_n)}{\\partial\\mu_2}=\\sum_{i=1}^n\\frac{\\frac{p_2(x_i-\\mu_2)}{{\\sigma_2^3 \\sqrt {2\\pi } }}e^{{\\frac{- \\left( {x_i-\\mu_2 } \\right)^2 }{2\\sigma_2 ^2 }}}}{\\frac{p_1}{{\\sigma_1 \\sqrt {2\\pi } }}e^{{\\frac{- \\left( {x_i-\\mu_1 } \\right)^2 }{2\\sigma_1 ^2 }}}+\\frac{p_2}{{\\sigma_2 \\sqrt {2\\pi } }}e^{{\\frac{- \\left( {x_i-\\mu_2 } \\right)^2 }{2\\sigma_2 ^2 }}}}$$\n",
                "\n",
                "    The estimating equations then become:\n",
                "\n",
                "    $$\\sum_{i=1}^n\\frac{\\frac{p_1(x_i-\\mu_1)}{{\\sigma_1^3 \\sqrt {2\\pi } }}e^{{\\frac{- \\left( {x_i-\\mu_1 } \\right)^2 }{2\\sigma_1 ^2 }}}}{\\frac{p_1}{{\\sigma_1 \\sqrt {2\\pi } }}e^{{\\frac{- \\left( {x_i-\\mu_1 } \\right)^2 }{2\\sigma_1 ^2 }}}+\\frac{p_2}{{\\sigma_2 \\sqrt {2\\pi } }}e^{{\\frac{- \\left( {x_i-\\mu_2 } \\right)^2 }{2\\sigma_2 ^2 }}}}=0$$\n",
                "\n",
                "    $$\\sum_{i=1}^n\\frac{\\frac{p_2(x_i-\\mu_2)}{{\\sigma_2^3 \\sqrt {2\\pi } }}e^{{\\frac{- \\left( {x_i-\\mu_2 } \\right)^2 }{2\\sigma_2 ^2 }}}}{\\frac{p_1}{{\\sigma_1 \\sqrt {2\\pi } }}e^{{\\frac{- \\left( {x_i-\\mu_1 } \\right)^2 }{2\\sigma_1 ^2 }}}+\\frac{p_2}{{\\sigma_2 \\sqrt {2\\pi } }}e^{{\\frac{- \\left( {x_i-\\mu_2 } \\right)^2 }{2\\sigma_2 ^2 }}}}=0$$\n",
                "\n",
                "    (c)\n",
                "        i. We use Bernoulli random variables $Z_i$ to represent stochastic membership of a Gaussian in the mixture model, i.e. the missing information, since there are only two Gaussians in the mixture. \n",
                "        \n",
                "  ii. The EM algorithm iteratively improves upon initial estimates (guesses) of $p_1$, $p_2$, $\\mu_1$, and $\\mu_2$ by alternating between (1) calculating the expected log likelihood given the data and the current estimates of $p_1$, $p_2$, $\\mu_1$, and $\\mu_2$ and (2) maximizing said expected log likelihood to get new estimates for $p_1$, $p_2$, $\\mu_1$, and $\\mu_2$. In this case, $Q$ at an expectation step $v$ becomes:\n",
                "  $$Q(p_1,p_2,\\mu_1,\\mu_2,p_1^{(v)},p_2^{(v)},\\mu_1^{(v)},\\mu_2^{(v)},X_i,Z_i)=E_{p_1^{(v)},p_2^{(v)},\\mu_1^{(v)},\\mu_2^{(v)}} \\{\\log L_F (p_1,p_2,\\mu_1,\\mu_2|X_i,Z_i)|X_i\\}$$\n",
                "\n",
                "  iii. The output from the code below shows that the estimated values $\\hat\\mu_1=-2.06$ and $\\hat\\mu_2=3.03$ are not too far from the true values $\\mu_1=-2$ and $\\mu_2=3$."
            ]
        },
        {
            "cell_type": "code",
            "execution_count": 2,
            "metadata": {},
            "outputs": [
                {
                    "name": "stderr",
                    "output_type": "stream",
                    "text": [
                        "mixtools package, version 1.2.0, Released 2020-02-05\n",
                        "This package is based upon work supported by the National Science Foundation under Grant No. SES-0518772.\n",
                        "\n",
                        "\n"
                    ]
                },
                {
                    "name": "stdout",
                    "output_type": "stream",
                    "text": [
                        "number of iterations= 8 \n"
                    ]
                },
                {
                    "data": {
                        "text/html": [
                            "<style>\n",
                            ".list-inline {list-style: none; margin:0; padding: 0}\n",
                            ".list-inline>li {display: inline-block}\n",
                            ".list-inline>li:not(:last-child)::after {content: \"\\00b7\"; padding: 0 .5ex}\n",
                            "</style>\n",
                            "<ol class=list-inline><li>-2.05894628573053</li><li>3.02978253515231</li></ol>\n"
                        ],
                        "text/latex": [
                            "\\begin{enumerate*}\n",
                            "\\item -2.05894628573053\n",
                            "\\item 3.02978253515231\n",
                            "\\end{enumerate*}\n"
                        ],
                        "text/markdown": [
                            "1. -2.05894628573053\n",
                            "2. 3.02978253515231\n",
                            "\n",
                            "\n"
                        ],
                        "text/plain": [
                            "[1] -2.058946  3.029783"
                        ]
                    },
                    "metadata": {},
                    "output_type": "display_data"
                }
            ],
            "source": [
                "library(mixtools)\n",
                "\n",
                "set.seed(12345)\n",
                "\n",
                "sigma <- 1\n",
                "mu.1 <- -2\n",
                "mu.2 <- 3\n",
                "n <- 100\n",
                "\n",
                "rmix <- function() {\n",
                "    p <- rbinom(1, size = 1, prob = 0.3)\n",
                "    ifelse(p, rnorm(1, mean = mu.1, sd = sigma), rnorm(1, mean = mu.2, sd = sigma))\n",
                "}\n",
                "\n",
                "y <- replicate(n, expr = rmix())\n",
                "(normalmixEM(y, sigma = sigma)$mu)"
            ]
        },
        {
            "cell_type": "markdown",
            "metadata": {},
            "source": [
                "iv. The simulation study below shows that the variance is lower for the maximum likelihood estimators than for the EM estimators. We attribute this to the fact that the EM algorithm has to estimate both membership of the Gaussians and their means, rather than just the Gaussian means."
            ]
        },
        {
            "cell_type": "code",
            "execution_count": 9,
            "metadata": {},
            "outputs": [
                {
                    "name": "stdout",
                    "output_type": "stream",
                    "text": [
                        "number of iterations= 10 \n"
                    ]
                },
                {
                    "name": "stderr",
                    "output_type": "stream",
                    "text": [
                        "Warning message in nlm(f = function(mu) {:\n",
                        "“NA/Inf replaced by maximum positive value”\n"
                    ]
                },
                {
                    "name": "stdout",
                    "output_type": "stream",
                    "text": [
                        "number of iterations= 15 \n"
                    ]
                },
                {
                    "name": "stderr",
                    "output_type": "stream",
                    "text": [
                        "Warning message in nlm(f = function(mu) {:\n",
                        "“NA/Inf replaced by maximum positive value”\n"
                    ]
                },
                {
                    "name": "stdout",
                    "output_type": "stream",
                    "text": [
                        "number of iterations= 8 \n"
                    ]
                },
                {
                    "name": "stderr",
                    "output_type": "stream",
                    "text": [
                        "Warning message in nlm(f = function(mu) {:\n",
                        "“NA/Inf replaced by maximum positive value”\n"
                    ]
                },
                {
                    "name": "stdout",
                    "output_type": "stream",
                    "text": [
                        "number of iterations= 7 \n"
                    ]
                },
                {
                    "name": "stderr",
                    "output_type": "stream",
                    "text": [
                        "Warning message in nlm(f = function(mu) {:\n",
                        "“NA/Inf replaced by maximum positive value”\n"
                    ]
                },
                {
                    "name": "stdout",
                    "output_type": "stream",
                    "text": [
                        "number of iterations= 9 \n"
                    ]
                },
                {
                    "name": "stderr",
                    "output_type": "stream",
                    "text": [
                        "Warning message in nlm(f = function(mu) {:\n",
                        "“NA/Inf replaced by maximum positive value”\n"
                    ]
                },
                {
                    "name": "stdout",
                    "output_type": "stream",
                    "text": [
                        "number of iterations= 8 \n"
                    ]
                },
                {
                    "name": "stderr",
                    "output_type": "stream",
                    "text": [
                        "Warning message in nlm(f = function(mu) {:\n",
                        "“NA/Inf replaced by maximum positive value”\n"
                    ]
                },
                {
                    "name": "stdout",
                    "output_type": "stream",
                    "text": [
                        "number of iterations= 7 \n"
                    ]
                },
                {
                    "name": "stderr",
                    "output_type": "stream",
                    "text": [
                        "Warning message in nlm(f = function(mu) {:\n",
                        "“NA/Inf replaced by maximum positive value”\n"
                    ]
                },
                {
                    "name": "stdout",
                    "output_type": "stream",
                    "text": [
                        "WARNING! NOT CONVERGENT! \n",
                        "number of iterations= 1000 \n"
                    ]
                },
                {
                    "name": "stderr",
                    "output_type": "stream",
                    "text": [
                        "Warning message in nlm(f = function(mu) {:\n",
                        "“NA/Inf replaced by maximum positive value”\n"
                    ]
                },
                {
                    "name": "stdout",
                    "output_type": "stream",
                    "text": [
                        "number of iterations= 8 \n"
                    ]
                },
                {
                    "name": "stderr",
                    "output_type": "stream",
                    "text": [
                        "Warning message in nlm(f = function(mu) {:\n",
                        "“NA/Inf replaced by maximum positive value”\n"
                    ]
                },
                {
                    "name": "stdout",
                    "output_type": "stream",
                    "text": [
                        "number of iterations= 7 \n"
                    ]
                },
                {
                    "name": "stderr",
                    "output_type": "stream",
                    "text": [
                        "Warning message in nlm(f = function(mu) {:\n",
                        "“NA/Inf replaced by maximum positive value”\n"
                    ]
                },
                {
                    "name": "stdout",
                    "output_type": "stream",
                    "text": [
                        "number of iterations= 10 \n"
                    ]
                },
                {
                    "name": "stderr",
                    "output_type": "stream",
                    "text": [
                        "Warning message in nlm(f = function(mu) {:\n",
                        "“NA/Inf replaced by maximum positive value”\n"
                    ]
                },
                {
                    "name": "stdout",
                    "output_type": "stream",
                    "text": [
                        "number of iterations= 9 \n"
                    ]
                },
                {
                    "name": "stderr",
                    "output_type": "stream",
                    "text": [
                        "Warning message in nlm(f = function(mu) {:\n",
                        "“NA/Inf replaced by maximum positive value”\n"
                    ]
                },
                {
                    "name": "stdout",
                    "output_type": "stream",
                    "text": [
                        "number of iterations= 9 \n"
                    ]
                },
                {
                    "name": "stderr",
                    "output_type": "stream",
                    "text": [
                        "Warning message in nlm(f = function(mu) {:\n",
                        "“NA/Inf replaced by maximum positive value”\n"
                    ]
                },
                {
                    "name": "stdout",
                    "output_type": "stream",
                    "text": [
                        "number of iterations= 22 \n",
                        "number of iterations= 8 \n"
                    ]
                },
                {
                    "name": "stderr",
                    "output_type": "stream",
                    "text": [
                        "Warning message in nlm(f = function(mu) {:\n",
                        "“NA/Inf replaced by maximum positive value”\n"
                    ]
                },
                {
                    "name": "stdout",
                    "output_type": "stream",
                    "text": [
                        "number of iterations= 13 \n"
                    ]
                },
                {
                    "name": "stderr",
                    "output_type": "stream",
                    "text": [
                        "Warning message in nlm(f = function(mu) {:\n",
                        "“NA/Inf replaced by maximum positive value”\n"
                    ]
                },
                {
                    "name": "stdout",
                    "output_type": "stream",
                    "text": [
                        "number of iterations= 8 \n"
                    ]
                },
                {
                    "name": "stderr",
                    "output_type": "stream",
                    "text": [
                        "Warning message in nlm(f = function(mu) {:\n",
                        "“NA/Inf replaced by maximum positive value”\n"
                    ]
                },
                {
                    "name": "stdout",
                    "output_type": "stream",
                    "text": [
                        "number of iterations= 9 \n"
                    ]
                },
                {
                    "name": "stderr",
                    "output_type": "stream",
                    "text": [
                        "Warning message in nlm(f = function(mu) {:\n",
                        "“NA/Inf replaced by maximum positive value”\n"
                    ]
                },
                {
                    "name": "stdout",
                    "output_type": "stream",
                    "text": [
                        "number of iterations= 9 \n"
                    ]
                },
                {
                    "name": "stderr",
                    "output_type": "stream",
                    "text": [
                        "Warning message in nlm(f = function(mu) {:\n",
                        "“NA/Inf replaced by maximum positive value”\n"
                    ]
                },
                {
                    "name": "stdout",
                    "output_type": "stream",
                    "text": [
                        "number of iterations= 8 \n"
                    ]
                },
                {
                    "name": "stderr",
                    "output_type": "stream",
                    "text": [
                        "Warning message in nlm(f = function(mu) {:\n",
                        "“NA/Inf replaced by maximum positive value”\n"
                    ]
                },
                {
                    "name": "stdout",
                    "output_type": "stream",
                    "text": [
                        "number of iterations= 6 \n"
                    ]
                },
                {
                    "name": "stderr",
                    "output_type": "stream",
                    "text": [
                        "Warning message in nlm(f = function(mu) {:\n",
                        "“NA/Inf replaced by maximum positive value”\n"
                    ]
                },
                {
                    "name": "stdout",
                    "output_type": "stream",
                    "text": [
                        "number of iterations= 12 \n"
                    ]
                },
                {
                    "name": "stderr",
                    "output_type": "stream",
                    "text": [
                        "Warning message in nlm(f = function(mu) {:\n",
                        "“NA/Inf replaced by maximum positive value”\n"
                    ]
                },
                {
                    "name": "stdout",
                    "output_type": "stream",
                    "text": [
                        "number of iterations= 11 \n"
                    ]
                },
                {
                    "name": "stderr",
                    "output_type": "stream",
                    "text": [
                        "Warning message in nlm(f = function(mu) {:\n",
                        "“NA/Inf replaced by maximum positive value”\n"
                    ]
                },
                {
                    "name": "stdout",
                    "output_type": "stream",
                    "text": [
                        "number of iterations= 5 \n"
                    ]
                },
                {
                    "name": "stderr",
                    "output_type": "stream",
                    "text": [
                        "Warning message in nlm(f = function(mu) {:\n",
                        "“NA/Inf replaced by maximum positive value”\n"
                    ]
                },
                {
                    "name": "stdout",
                    "output_type": "stream",
                    "text": [
                        "number of iterations= 12 \n"
                    ]
                },
                {
                    "name": "stderr",
                    "output_type": "stream",
                    "text": [
                        "Warning message in nlm(f = function(mu) {:\n",
                        "“NA/Inf replaced by maximum positive value”\n"
                    ]
                },
                {
                    "name": "stdout",
                    "output_type": "stream",
                    "text": [
                        "number of iterations= 8 \n"
                    ]
                },
                {
                    "name": "stderr",
                    "output_type": "stream",
                    "text": [
                        "Warning message in nlm(f = function(mu) {:\n",
                        "“NA/Inf replaced by maximum positive value”\n"
                    ]
                },
                {
                    "name": "stdout",
                    "output_type": "stream",
                    "text": [
                        "number of iterations= 10 \n"
                    ]
                },
                {
                    "name": "stderr",
                    "output_type": "stream",
                    "text": [
                        "Warning message in nlm(f = function(mu) {:\n",
                        "“NA/Inf replaced by maximum positive value”\n"
                    ]
                },
                {
                    "name": "stdout",
                    "output_type": "stream",
                    "text": [
                        "number of iterations= 6 \n"
                    ]
                },
                {
                    "name": "stderr",
                    "output_type": "stream",
                    "text": [
                        "Warning message in nlm(f = function(mu) {:\n",
                        "“NA/Inf replaced by maximum positive value”\n"
                    ]
                },
                {
                    "name": "stdout",
                    "output_type": "stream",
                    "text": [
                        "number of iterations= 10 \n"
                    ]
                },
                {
                    "name": "stderr",
                    "output_type": "stream",
                    "text": [
                        "Warning message in nlm(f = function(mu) {:\n",
                        "“NA/Inf replaced by maximum positive value”\n"
                    ]
                },
                {
                    "name": "stdout",
                    "output_type": "stream",
                    "text": [
                        "number of iterations= 13 \n"
                    ]
                },
                {
                    "name": "stderr",
                    "output_type": "stream",
                    "text": [
                        "Warning message in nlm(f = function(mu) {:\n",
                        "“NA/Inf replaced by maximum positive value”\n"
                    ]
                },
                {
                    "name": "stdout",
                    "output_type": "stream",
                    "text": [
                        "number of iterations= 7 \n"
                    ]
                },
                {
                    "name": "stderr",
                    "output_type": "stream",
                    "text": [
                        "Warning message in nlm(f = function(mu) {:\n",
                        "“NA/Inf replaced by maximum positive value”\n"
                    ]
                },
                {
                    "name": "stdout",
                    "output_type": "stream",
                    "text": [
                        "number of iterations= 13 \n"
                    ]
                },
                {
                    "name": "stderr",
                    "output_type": "stream",
                    "text": [
                        "Warning message in nlm(f = function(mu) {:\n",
                        "“NA/Inf replaced by maximum positive value”\n"
                    ]
                },
                {
                    "name": "stdout",
                    "output_type": "stream",
                    "text": [
                        "number of iterations= 11 \n"
                    ]
                },
                {
                    "name": "stderr",
                    "output_type": "stream",
                    "text": [
                        "Warning message in nlm(f = function(mu) {:\n",
                        "“NA/Inf replaced by maximum positive value”\n"
                    ]
                },
                {
                    "name": "stdout",
                    "output_type": "stream",
                    "text": [
                        "number of iterations= 14 \n"
                    ]
                },
                {
                    "name": "stderr",
                    "output_type": "stream",
                    "text": [
                        "Warning message in nlm(f = function(mu) {:\n",
                        "“NA/Inf replaced by maximum positive value”\n"
                    ]
                },
                {
                    "name": "stdout",
                    "output_type": "stream",
                    "text": [
                        "number of iterations= 6 \n"
                    ]
                },
                {
                    "name": "stderr",
                    "output_type": "stream",
                    "text": [
                        "Warning message in nlm(f = function(mu) {:\n",
                        "“NA/Inf replaced by maximum positive value”\n"
                    ]
                },
                {
                    "name": "stdout",
                    "output_type": "stream",
                    "text": [
                        "number of iterations= 10 \n"
                    ]
                },
                {
                    "name": "stderr",
                    "output_type": "stream",
                    "text": [
                        "Warning message in nlm(f = function(mu) {:\n",
                        "“NA/Inf replaced by maximum positive value”\n"
                    ]
                },
                {
                    "name": "stdout",
                    "output_type": "stream",
                    "text": [
                        "number of iterations= 13 \n"
                    ]
                },
                {
                    "name": "stderr",
                    "output_type": "stream",
                    "text": [
                        "Warning message in nlm(f = function(mu) {:\n",
                        "“NA/Inf replaced by maximum positive value”\n"
                    ]
                },
                {
                    "name": "stdout",
                    "output_type": "stream",
                    "text": [
                        "number of iterations= 9 \n"
                    ]
                },
                {
                    "name": "stderr",
                    "output_type": "stream",
                    "text": [
                        "Warning message in nlm(f = function(mu) {:\n",
                        "“NA/Inf replaced by maximum positive value”\n"
                    ]
                },
                {
                    "name": "stdout",
                    "output_type": "stream",
                    "text": [
                        "number of iterations= 6 \n"
                    ]
                },
                {
                    "name": "stderr",
                    "output_type": "stream",
                    "text": [
                        "Warning message in nlm(f = function(mu) {:\n",
                        "“NA/Inf replaced by maximum positive value”\n"
                    ]
                },
                {
                    "name": "stdout",
                    "output_type": "stream",
                    "text": [
                        "number of iterations= 7 \n"
                    ]
                },
                {
                    "name": "stderr",
                    "output_type": "stream",
                    "text": [
                        "Warning message in nlm(f = function(mu) {:\n",
                        "“NA/Inf replaced by maximum positive value”\n"
                    ]
                },
                {
                    "name": "stdout",
                    "output_type": "stream",
                    "text": [
                        "number of iterations= 7 \n"
                    ]
                },
                {
                    "name": "stderr",
                    "output_type": "stream",
                    "text": [
                        "Warning message in nlm(f = function(mu) {:\n",
                        "“NA/Inf replaced by maximum positive value”\n"
                    ]
                },
                {
                    "name": "stdout",
                    "output_type": "stream",
                    "text": [
                        "number of iterations= 7 \n"
                    ]
                },
                {
                    "name": "stderr",
                    "output_type": "stream",
                    "text": [
                        "Warning message in nlm(f = function(mu) {:\n",
                        "“NA/Inf replaced by maximum positive value”\n"
                    ]
                },
                {
                    "name": "stdout",
                    "output_type": "stream",
                    "text": [
                        "number of iterations= 8 \n"
                    ]
                },
                {
                    "name": "stderr",
                    "output_type": "stream",
                    "text": [
                        "Warning message in nlm(f = function(mu) {:\n",
                        "“NA/Inf replaced by maximum positive value”\n"
                    ]
                },
                {
                    "name": "stdout",
                    "output_type": "stream",
                    "text": [
                        "number of iterations= 9 \n"
                    ]
                },
                {
                    "name": "stderr",
                    "output_type": "stream",
                    "text": [
                        "Warning message in nlm(f = function(mu) {:\n",
                        "“NA/Inf replaced by maximum positive value”\n"
                    ]
                },
                {
                    "name": "stdout",
                    "output_type": "stream",
                    "text": [
                        "number of iterations= 9 \n"
                    ]
                },
                {
                    "name": "stderr",
                    "output_type": "stream",
                    "text": [
                        "Warning message in nlm(f = function(mu) {:\n",
                        "“NA/Inf replaced by maximum positive value”\n"
                    ]
                },
                {
                    "name": "stdout",
                    "output_type": "stream",
                    "text": [
                        "number of iterations= 7 \n"
                    ]
                },
                {
                    "name": "stderr",
                    "output_type": "stream",
                    "text": [
                        "Warning message in nlm(f = function(mu) {:\n",
                        "“NA/Inf replaced by maximum positive value”\n"
                    ]
                },
                {
                    "name": "stdout",
                    "output_type": "stream",
                    "text": [
                        "number of iterations= 11 \n"
                    ]
                },
                {
                    "name": "stderr",
                    "output_type": "stream",
                    "text": [
                        "Warning message in nlm(f = function(mu) {:\n",
                        "“NA/Inf replaced by maximum positive value”\n"
                    ]
                },
                {
                    "name": "stdout",
                    "output_type": "stream",
                    "text": [
                        "number of iterations= 16 \n"
                    ]
                },
                {
                    "name": "stderr",
                    "output_type": "stream",
                    "text": [
                        "Warning message in nlm(f = function(mu) {:\n",
                        "“NA/Inf replaced by maximum positive value”\n"
                    ]
                },
                {
                    "name": "stdout",
                    "output_type": "stream",
                    "text": [
                        "number of iterations= 8 \n"
                    ]
                },
                {
                    "name": "stderr",
                    "output_type": "stream",
                    "text": [
                        "Warning message in nlm(f = function(mu) {:\n",
                        "“NA/Inf replaced by maximum positive value”\n"
                    ]
                },
                {
                    "name": "stdout",
                    "output_type": "stream",
                    "text": [
                        "number of iterations= 10 \n"
                    ]
                },
                {
                    "name": "stderr",
                    "output_type": "stream",
                    "text": [
                        "Warning message in nlm(f = function(mu) {:\n",
                        "“NA/Inf replaced by maximum positive value”\n"
                    ]
                },
                {
                    "name": "stdout",
                    "output_type": "stream",
                    "text": [
                        "number of iterations= 6 \n"
                    ]
                },
                {
                    "name": "stderr",
                    "output_type": "stream",
                    "text": [
                        "Warning message in nlm(f = function(mu) {:\n",
                        "“NA/Inf replaced by maximum positive value”\n"
                    ]
                },
                {
                    "name": "stdout",
                    "output_type": "stream",
                    "text": [
                        "number of iterations= 12 \n"
                    ]
                },
                {
                    "name": "stderr",
                    "output_type": "stream",
                    "text": [
                        "Warning message in nlm(f = function(mu) {:\n",
                        "“NA/Inf replaced by maximum positive value”\n"
                    ]
                },
                {
                    "name": "stdout",
                    "output_type": "stream",
                    "text": [
                        "number of iterations= 8 \n"
                    ]
                },
                {
                    "name": "stderr",
                    "output_type": "stream",
                    "text": [
                        "Warning message in nlm(f = function(mu) {:\n",
                        "“NA/Inf replaced by maximum positive value”\n"
                    ]
                },
                {
                    "name": "stdout",
                    "output_type": "stream",
                    "text": [
                        "number of iterations= 8 \n"
                    ]
                },
                {
                    "name": "stderr",
                    "output_type": "stream",
                    "text": [
                        "Warning message in nlm(f = function(mu) {:\n",
                        "“NA/Inf replaced by maximum positive value”\n"
                    ]
                },
                {
                    "name": "stdout",
                    "output_type": "stream",
                    "text": [
                        "number of iterations= 6 \n"
                    ]
                },
                {
                    "name": "stderr",
                    "output_type": "stream",
                    "text": [
                        "Warning message in nlm(f = function(mu) {:\n",
                        "“NA/Inf replaced by maximum positive value”\n"
                    ]
                },
                {
                    "name": "stdout",
                    "output_type": "stream",
                    "text": [
                        "number of iterations= 9 \n"
                    ]
                },
                {
                    "name": "stderr",
                    "output_type": "stream",
                    "text": [
                        "Warning message in nlm(f = function(mu) {:\n",
                        "“NA/Inf replaced by maximum positive value”\n"
                    ]
                },
                {
                    "name": "stdout",
                    "output_type": "stream",
                    "text": [
                        "number of iterations= 9 \n"
                    ]
                },
                {
                    "name": "stderr",
                    "output_type": "stream",
                    "text": [
                        "Warning message in nlm(f = function(mu) {:\n",
                        "“NA/Inf replaced by maximum positive value”\n"
                    ]
                },
                {
                    "name": "stdout",
                    "output_type": "stream",
                    "text": [
                        "number of iterations= 9 \n"
                    ]
                },
                {
                    "name": "stderr",
                    "output_type": "stream",
                    "text": [
                        "Warning message in nlm(f = function(mu) {:\n",
                        "“NA/Inf replaced by maximum positive value”\n"
                    ]
                },
                {
                    "name": "stdout",
                    "output_type": "stream",
                    "text": [
                        "number of iterations= 11 \n"
                    ]
                },
                {
                    "name": "stderr",
                    "output_type": "stream",
                    "text": [
                        "Warning message in nlm(f = function(mu) {:\n",
                        "“NA/Inf replaced by maximum positive value”\n"
                    ]
                },
                {
                    "name": "stdout",
                    "output_type": "stream",
                    "text": [
                        "number of iterations= 8 \n"
                    ]
                },
                {
                    "name": "stderr",
                    "output_type": "stream",
                    "text": [
                        "Warning message in nlm(f = function(mu) {:\n",
                        "“NA/Inf replaced by maximum positive value”\n"
                    ]
                },
                {
                    "name": "stdout",
                    "output_type": "stream",
                    "text": [
                        "number of iterations= 8 \n"
                    ]
                },
                {
                    "name": "stderr",
                    "output_type": "stream",
                    "text": [
                        "Warning message in nlm(f = function(mu) {:\n",
                        "“NA/Inf replaced by maximum positive value”\n"
                    ]
                },
                {
                    "name": "stdout",
                    "output_type": "stream",
                    "text": [
                        "number of iterations= 10 \n"
                    ]
                },
                {
                    "name": "stderr",
                    "output_type": "stream",
                    "text": [
                        "Warning message in nlm(f = function(mu) {:\n",
                        "“NA/Inf replaced by maximum positive value”\n"
                    ]
                },
                {
                    "name": "stdout",
                    "output_type": "stream",
                    "text": [
                        "number of iterations= 7 \n"
                    ]
                },
                {
                    "name": "stderr",
                    "output_type": "stream",
                    "text": [
                        "Warning message in nlm(f = function(mu) {:\n",
                        "“NA/Inf replaced by maximum positive value”\n"
                    ]
                },
                {
                    "name": "stdout",
                    "output_type": "stream",
                    "text": [
                        "number of iterations= 43 \n"
                    ]
                },
                {
                    "name": "stderr",
                    "output_type": "stream",
                    "text": [
                        "Warning message in nlm(f = function(mu) {:\n",
                        "“NA/Inf replaced by maximum positive value”\n"
                    ]
                },
                {
                    "name": "stdout",
                    "output_type": "stream",
                    "text": [
                        "number of iterations= 8 \n"
                    ]
                },
                {
                    "name": "stderr",
                    "output_type": "stream",
                    "text": [
                        "Warning message in nlm(f = function(mu) {:\n",
                        "“NA/Inf replaced by maximum positive value”\n"
                    ]
                },
                {
                    "name": "stdout",
                    "output_type": "stream",
                    "text": [
                        "number of iterations= 8 \n"
                    ]
                },
                {
                    "name": "stderr",
                    "output_type": "stream",
                    "text": [
                        "Warning message in nlm(f = function(mu) {:\n",
                        "“NA/Inf replaced by maximum positive value”\n"
                    ]
                },
                {
                    "name": "stdout",
                    "output_type": "stream",
                    "text": [
                        "number of iterations= 8 \n"
                    ]
                },
                {
                    "name": "stderr",
                    "output_type": "stream",
                    "text": [
                        "Warning message in nlm(f = function(mu) {:\n",
                        "“NA/Inf replaced by maximum positive value”\n"
                    ]
                },
                {
                    "name": "stdout",
                    "output_type": "stream",
                    "text": [
                        "number of iterations= 6 \n"
                    ]
                },
                {
                    "name": "stderr",
                    "output_type": "stream",
                    "text": [
                        "Warning message in nlm(f = function(mu) {:\n",
                        "“NA/Inf replaced by maximum positive value”\n"
                    ]
                },
                {
                    "name": "stdout",
                    "output_type": "stream",
                    "text": [
                        "number of iterations= 8 \n"
                    ]
                },
                {
                    "name": "stderr",
                    "output_type": "stream",
                    "text": [
                        "Warning message in nlm(f = function(mu) {:\n",
                        "“NA/Inf replaced by maximum positive value”\n"
                    ]
                },
                {
                    "name": "stdout",
                    "output_type": "stream",
                    "text": [
                        "number of iterations= 11 \n"
                    ]
                },
                {
                    "name": "stderr",
                    "output_type": "stream",
                    "text": [
                        "Warning message in nlm(f = function(mu) {:\n",
                        "“NA/Inf replaced by maximum positive value”\n"
                    ]
                },
                {
                    "name": "stdout",
                    "output_type": "stream",
                    "text": [
                        "number of iterations= 12 \n"
                    ]
                },
                {
                    "name": "stderr",
                    "output_type": "stream",
                    "text": [
                        "Warning message in nlm(f = function(mu) {:\n",
                        "“NA/Inf replaced by maximum positive value”\n"
                    ]
                },
                {
                    "name": "stdout",
                    "output_type": "stream",
                    "text": [
                        "number of iterations= 8 \n"
                    ]
                },
                {
                    "name": "stderr",
                    "output_type": "stream",
                    "text": [
                        "Warning message in nlm(f = function(mu) {:\n",
                        "“NA/Inf replaced by maximum positive value”\n"
                    ]
                },
                {
                    "name": "stdout",
                    "output_type": "stream",
                    "text": [
                        "number of iterations= 7 \n"
                    ]
                },
                {
                    "name": "stderr",
                    "output_type": "stream",
                    "text": [
                        "Warning message in nlm(f = function(mu) {:\n",
                        "“NA/Inf replaced by maximum positive value”\n"
                    ]
                },
                {
                    "name": "stdout",
                    "output_type": "stream",
                    "text": [
                        "number of iterations= 5 \n"
                    ]
                },
                {
                    "name": "stderr",
                    "output_type": "stream",
                    "text": [
                        "Warning message in nlm(f = function(mu) {:\n",
                        "“NA/Inf replaced by maximum positive value”\n"
                    ]
                },
                {
                    "name": "stdout",
                    "output_type": "stream",
                    "text": [
                        "number of iterations= 8 \n"
                    ]
                },
                {
                    "name": "stderr",
                    "output_type": "stream",
                    "text": [
                        "Warning message in nlm(f = function(mu) {:\n",
                        "“NA/Inf replaced by maximum positive value”\n"
                    ]
                },
                {
                    "name": "stdout",
                    "output_type": "stream",
                    "text": [
                        "number of iterations= 6 \n"
                    ]
                },
                {
                    "name": "stderr",
                    "output_type": "stream",
                    "text": [
                        "Warning message in nlm(f = function(mu) {:\n",
                        "“NA/Inf replaced by maximum positive value”\n"
                    ]
                },
                {
                    "name": "stdout",
                    "output_type": "stream",
                    "text": [
                        "number of iterations= 9 \n"
                    ]
                },
                {
                    "name": "stderr",
                    "output_type": "stream",
                    "text": [
                        "Warning message in nlm(f = function(mu) {:\n",
                        "“NA/Inf replaced by maximum positive value”\n"
                    ]
                },
                {
                    "name": "stdout",
                    "output_type": "stream",
                    "text": [
                        "number of iterations= 13 \n"
                    ]
                },
                {
                    "name": "stderr",
                    "output_type": "stream",
                    "text": [
                        "Warning message in nlm(f = function(mu) {:\n",
                        "“NA/Inf replaced by maximum positive value”\n"
                    ]
                },
                {
                    "name": "stdout",
                    "output_type": "stream",
                    "text": [
                        "number of iterations= 9 \n"
                    ]
                },
                {
                    "name": "stderr",
                    "output_type": "stream",
                    "text": [
                        "Warning message in nlm(f = function(mu) {:\n",
                        "“NA/Inf replaced by maximum positive value”\n"
                    ]
                },
                {
                    "name": "stdout",
                    "output_type": "stream",
                    "text": [
                        "number of iterations= 6 \n"
                    ]
                },
                {
                    "name": "stderr",
                    "output_type": "stream",
                    "text": [
                        "Warning message in nlm(f = function(mu) {:\n",
                        "“NA/Inf replaced by maximum positive value”\n"
                    ]
                },
                {
                    "name": "stdout",
                    "output_type": "stream",
                    "text": [
                        "number of iterations= 6 \n"
                    ]
                },
                {
                    "name": "stderr",
                    "output_type": "stream",
                    "text": [
                        "Warning message in nlm(f = function(mu) {:\n",
                        "“NA/Inf replaced by maximum positive value”\n"
                    ]
                },
                {
                    "name": "stdout",
                    "output_type": "stream",
                    "text": [
                        "number of iterations= 8 \n"
                    ]
                },
                {
                    "name": "stderr",
                    "output_type": "stream",
                    "text": [
                        "Warning message in nlm(f = function(mu) {:\n",
                        "“NA/Inf replaced by maximum positive value”\n"
                    ]
                },
                {
                    "name": "stdout",
                    "output_type": "stream",
                    "text": [
                        "number of iterations= 798 \n"
                    ]
                },
                {
                    "name": "stderr",
                    "output_type": "stream",
                    "text": [
                        "Warning message in nlm(f = function(mu) {:\n",
                        "“NA/Inf replaced by maximum positive value”\n"
                    ]
                },
                {
                    "name": "stdout",
                    "output_type": "stream",
                    "text": [
                        "number of iterations= 8 \n"
                    ]
                },
                {
                    "name": "stderr",
                    "output_type": "stream",
                    "text": [
                        "Warning message in nlm(f = function(mu) {:\n",
                        "“NA/Inf replaced by maximum positive value”\n"
                    ]
                },
                {
                    "name": "stdout",
                    "output_type": "stream",
                    "text": [
                        "number of iterations= 6 \n"
                    ]
                },
                {
                    "name": "stderr",
                    "output_type": "stream",
                    "text": [
                        "Warning message in nlm(f = function(mu) {:\n",
                        "“NA/Inf replaced by maximum positive value”\n"
                    ]
                },
                {
                    "name": "stdout",
                    "output_type": "stream",
                    "text": [
                        "number of iterations= 10 \n"
                    ]
                },
                {
                    "name": "stderr",
                    "output_type": "stream",
                    "text": [
                        "Warning message in nlm(f = function(mu) {:\n",
                        "“NA/Inf replaced by maximum positive value”\n"
                    ]
                },
                {
                    "name": "stdout",
                    "output_type": "stream",
                    "text": [
                        "number of iterations= 10 \n"
                    ]
                },
                {
                    "name": "stderr",
                    "output_type": "stream",
                    "text": [
                        "Warning message in nlm(f = function(mu) {:\n",
                        "“NA/Inf replaced by maximum positive value”\n"
                    ]
                },
                {
                    "name": "stdout",
                    "output_type": "stream",
                    "text": [
                        "number of iterations= 9 \n"
                    ]
                },
                {
                    "name": "stderr",
                    "output_type": "stream",
                    "text": [
                        "Warning message in nlm(f = function(mu) {:\n",
                        "“NA/Inf replaced by maximum positive value”\n"
                    ]
                },
                {
                    "name": "stdout",
                    "output_type": "stream",
                    "text": [
                        "number of iterations= 9 \n"
                    ]
                },
                {
                    "name": "stderr",
                    "output_type": "stream",
                    "text": [
                        "Warning message in nlm(f = function(mu) {:\n",
                        "“NA/Inf replaced by maximum positive value”\n"
                    ]
                },
                {
                    "name": "stdout",
                    "output_type": "stream",
                    "text": [
                        "number of iterations= 9 \n"
                    ]
                },
                {
                    "name": "stderr",
                    "output_type": "stream",
                    "text": [
                        "Warning message in nlm(f = function(mu) {:\n",
                        "“NA/Inf replaced by maximum positive value”\n"
                    ]
                },
                {
                    "name": "stdout",
                    "output_type": "stream",
                    "text": [
                        "number of iterations= 12 \n"
                    ]
                },
                {
                    "name": "stderr",
                    "output_type": "stream",
                    "text": [
                        "Warning message in nlm(f = function(mu) {:\n",
                        "“NA/Inf replaced by maximum positive value”\n"
                    ]
                },
                {
                    "name": "stdout",
                    "output_type": "stream",
                    "text": [
                        "number of iterations= 7 \n"
                    ]
                },
                {
                    "name": "stderr",
                    "output_type": "stream",
                    "text": [
                        "Warning message in nlm(f = function(mu) {:\n",
                        "“NA/Inf replaced by maximum positive value”\n"
                    ]
                },
                {
                    "name": "stdout",
                    "output_type": "stream",
                    "text": [
                        "number of iterations= 7 \n"
                    ]
                },
                {
                    "name": "stderr",
                    "output_type": "stream",
                    "text": [
                        "Warning message in nlm(f = function(mu) {:\n",
                        "“NA/Inf replaced by maximum positive value”\n"
                    ]
                },
                {
                    "name": "stdout",
                    "output_type": "stream",
                    "text": [
                        "number of iterations= 7 \n"
                    ]
                },
                {
                    "name": "stderr",
                    "output_type": "stream",
                    "text": [
                        "Warning message in nlm(f = function(mu) {:\n",
                        "“NA/Inf replaced by maximum positive value”\n"
                    ]
                },
                {
                    "name": "stdout",
                    "output_type": "stream",
                    "text": [
                        "number of iterations= 7 \n"
                    ]
                },
                {
                    "name": "stderr",
                    "output_type": "stream",
                    "text": [
                        "Warning message in nlm(f = function(mu) {:\n",
                        "“NA/Inf replaced by maximum positive value”\n"
                    ]
                },
                {
                    "name": "stdout",
                    "output_type": "stream",
                    "text": [
                        "number of iterations= 13 \n"
                    ]
                },
                {
                    "name": "stderr",
                    "output_type": "stream",
                    "text": [
                        "Warning message in nlm(f = function(mu) {:\n",
                        "“NA/Inf replaced by maximum positive value”\n"
                    ]
                },
                {
                    "name": "stdout",
                    "output_type": "stream",
                    "text": [
                        "number of iterations= 7 \n"
                    ]
                },
                {
                    "name": "stderr",
                    "output_type": "stream",
                    "text": [
                        "Warning message in nlm(f = function(mu) {:\n",
                        "“NA/Inf replaced by maximum positive value”\n"
                    ]
                },
                {
                    "name": "stdout",
                    "output_type": "stream",
                    "text": [
                        "number of iterations= 10 \n"
                    ]
                },
                {
                    "name": "stderr",
                    "output_type": "stream",
                    "text": [
                        "Warning message in nlm(f = function(mu) {:\n",
                        "“NA/Inf replaced by maximum positive value”\n"
                    ]
                },
                {
                    "name": "stdout",
                    "output_type": "stream",
                    "text": [
                        "number of iterations= 8 \n"
                    ]
                },
                {
                    "name": "stderr",
                    "output_type": "stream",
                    "text": [
                        "Warning message in nlm(f = function(mu) {:\n",
                        "“NA/Inf replaced by maximum positive value”\n"
                    ]
                },
                {
                    "name": "stdout",
                    "output_type": "stream",
                    "text": [
                        "number of iterations= 5 \n"
                    ]
                },
                {
                    "name": "stderr",
                    "output_type": "stream",
                    "text": [
                        "Warning message in nlm(f = function(mu) {:\n",
                        "“NA/Inf replaced by maximum positive value”\n"
                    ]
                },
                {
                    "data": {
                        "text/html": [
                            "0.510117337874999"
                        ],
                        "text/latex": [
                            "0.510117337874999"
                        ],
                        "text/markdown": [
                            "0.510117337874999"
                        ],
                        "text/plain": [
                            "[1] 0.5101173"
                        ]
                    },
                    "metadata": {},
                    "output_type": "display_data"
                },
                {
                    "data": {
                        "text/html": [
                            "0.0426423976316159"
                        ],
                        "text/latex": [
                            "0.0426423976316159"
                        ],
                        "text/markdown": [
                            "0.0426423976316159"
                        ],
                        "text/plain": [
                            "[1] 0.0426424"
                        ]
                    },
                    "metadata": {},
                    "output_type": "display_data"
                },
                {
                    "data": {
                        "text/html": [
                            "0.326658718237039"
                        ],
                        "text/latex": [
                            "0.326658718237039"
                        ],
                        "text/markdown": [
                            "0.326658718237039"
                        ],
                        "text/plain": [
                            "[1] 0.3266587"
                        ]
                    },
                    "metadata": {},
                    "output_type": "display_data"
                },
                {
                    "data": {
                        "text/html": [
                            "0.0159412045135314"
                        ],
                        "text/latex": [
                            "0.0159412045135314"
                        ],
                        "text/markdown": [
                            "0.0159412045135314"
                        ],
                        "text/plain": [
                            "[1] 0.0159412"
                        ]
                    },
                    "metadata": {},
                    "output_type": "display_data"
                }
            ],
            "source": [
                "B <- 100\n",
                "mu.1.sim <- vector(mode = \"numeric\", length = B)\n",
                "mu.2.sim <- vector(mode = \"numeric\", length = B)\n",
                "mu.1.mle.sim <- vector(mode = \"numeric\", length = B)\n",
                "mu.2.mle.sim <- vector(mode = \"numeric\", length = B)\n",
                "\n",
                "log.likelihood <- function(data) {\n",
                "    function(mu) {\n",
                "        sum(log((0.3 / sqrt(2 * pi)) * exp(-(data - mu[1])^2) + (0.7 / sqrt(2 * pi)) * exp(-(data - mu[2])^2)))\n",
                "    }\n",
                "}\n",
                "\n",
                "for (i in 1:B) {\n",
                "    y <- replicate(n, expr = rmix())\n",
                "    mix <- normalmixEM(y, sigma = sigma)\n",
                "    mu.1.sim[i] <- mix$mu[1]\n",
                "    mu.2.sim[i] <- mix$mu[2]\n",
                "    min <- nlm(f = function(mu) { -log.likelihood(y)(mu) }, p = c(-1, 2))\n",
                "    mu.1.mle.sim[i] <- min$estimate[1]\n",
                "    mu.2.mle.sim[i] <- min$estimate[2]\n",
                "}\n",
                "var(mu.1.sim)\n",
                "var(mu.1.mle.sim)\n",
                "var(mu.2.sim)\n",
                "var(mu.2.mle.sim)"
            ]
        },
        {
            "cell_type": "markdown",
            "metadata": {},
            "source": [
                "2. (a) Let $z_1,\\ldots,z_n$ be the realized (i.e. sample) values of the $Z_1,\\ldots,Z_n$ random variables and $\\text{Ind}(p)$ be the indicator function which equals $1$ when the predicate $p$ holds and $0$ when it does not. If we assume the $Z_1,\\ldots,Z_n$ are independent, the likelihood function $L$ is then:\n",
                "    \n",
                "    $$L(\\theta|z_1,\\ldots,z_n,m_1,m_2)=\\prod_{i=1}^n\\left(\\theta\\exp\\left(-\\theta z_i\\right)\\right)^{\\text{Ind}(z_i\\in[m_1,m_2])}$$\n",
                "\n",
                "    Which makes the log likelihood function $l$:\n",
                "    $$l(\\theta|z_1,\\ldots,z_n,m_1,m_2)=\\sum_{i=1}^n\\text{Ind}(z_i\\in[m_1,m_2])(\\log\\left(\\theta\\right)-\\theta z_i)$$\n",
                "\n",
                "    (b)"
            ]
        },
        {
            "cell_type": "code",
            "execution_count": 8,
            "metadata": {},
            "outputs": [
                {
                    "name": "stderr",
                    "output_type": "stream",
                    "text": [
                        "Warning message in log(theta):\n",
                        "“NaNs produced”\n",
                        "Warning message in nlm(function(theta) {:\n",
                        "“NA/Inf replaced by maximum positive value”\n",
                        "Warning message in log(theta):\n",
                        "“NaNs produced”\n",
                        "Warning message in nlm(function(theta) {:\n",
                        "“NA/Inf replaced by maximum positive value”\n"
                    ]
                },
                {
                    "data": {
                        "text/html": [
                            "0.218181833407177"
                        ],
                        "text/latex": [
                            "0.218181833407177"
                        ],
                        "text/markdown": [
                            "0.218181833407177"
                        ],
                        "text/plain": [
                            "[1] 0.2181818"
                        ]
                    },
                    "metadata": {},
                    "output_type": "display_data"
                }
            ],
            "source": [
                "m.1 <- 1\n",
                "m.2 <- 20\n",
                "n <- 6\n",
                "z <- c(1.5, 2, 3, 4, 5, 12)\n",
                "\n",
                "log.likelihood <- function(theta) {\n",
                "    sum((z >= m.1 & z <= m.2) * (log(theta) - theta * z))\n",
                "}\n",
                "\n",
                "(theta.mle <- nlm(function (theta) { -log.likelihood(theta) }, 0.5)$estimate)"
            ]
        },
        {
            "cell_type": "markdown",
            "metadata": {},
            "source": [
                "  (c) We first compute the likelihood function $L$ and the log likelihood function $l$:\n",
                "  \n",
                "  $$L(\\beta_0,\\beta_1|x_1,\\ldots,x_n,y_1,\\ldots,y_n)=\\prod_{i=1}^n\\frac{\\exp\\left(-\\frac{y_i}{\\beta_0+\\beta_1 x_i}\\right)}{\\beta_0+\\beta_1 x_i}$$\n",
                "\n",
                "$$l(\\beta_0,\\beta_1|x_1,\\ldots,x_n,y_1,\\ldots,y_n)=\\sum_{i=1}^n\\left(\\frac{-y_i}{\\beta_0+\\beta_1 x_i}-\\log(\\beta_0+\\beta_1 x_i)\\right)$$\n",
                "\n",
                "  The score vector $S$ then consists of the partial derivatives of $l$ in $\\beta_0$ and $\\beta_1$:\n",
                "\n",
                "$$\\frac{\\partial l(\\beta_0,\\beta_1|x_1,\\ldots,x_n,y_1,\\ldots,y_n)}{\\partial\\beta_0}=\\sum_{i=1}^n\\left(\\frac{y_i}{\\left(\\beta_0+\\beta_1 x_i\\right)^2}-\\frac{1}{\\beta_0+\\beta_1 x_i}\\right)$$\n",
                "\n",
                "$$\\frac{\\partial l(\\beta_0,\\beta_1|x_1,\\ldots,x_n,y_1,\\ldots,y_n)}{\\partial\\beta_1}=\\sum_{i=1}^n\\left(\\frac{x_i y_i}{\\left(\\beta_0+\\beta_1 x_i\\right)^2}-\\frac{x_i}{\\beta_0+\\beta_1 x_i}\\right)$$\n",
                "\n",
                "$$S(\\beta_0,\\beta_1)=\\left(\\sum_{i=1}^n\\left(\\frac{y_i}{\\left(\\beta_0+\\beta_1 x_i\\right)^2}-\\frac{1}{\\beta_0+\\beta_1 x_i}\\right),\\sum_{i=1}^n\\left(\\frac{x_i y_i}{\\left(\\beta_0+\\beta_1 x_i\\right)^2}-\\frac{x_i}{\\beta_0+\\beta_1 x_i}\\right)\\right)$$\n",
                "\n",
                "  (d) We first compute the Fisher information matrix $I$, consisting of the second partial derivatives of $l$ in $\\beta_0$ and $\\beta_1$:\n",
                "\n",
                "  $$  I = \\left[ {\\begin{array}{cc}\n",
                "     I_{\\beta_0\\beta_0} & I_{\\beta_0\\beta_1} \\\\\n",
                "     I_{\\beta_1\\beta_0} & I_{\\beta_1\\beta_1} \\\\\n",
                "  \\end{array} } \\right]\n",
                "  $$\n",
                "  \n",
                "  $$=\\left[ {\\begin{array}{cc}\n",
                "    \\frac{\\partial^2 l(\\beta_0,\\beta_1|x_1,\\ldots,x_n,y_1,\\ldots,y_n)}{\\partial\\beta_0\\partial\\beta_0} & \\frac{\\partial^2 l(\\beta_0,\\beta_1|x_1,\\ldots,x_n,y_1,\\ldots,y_n)}{\\partial\\beta_0\\partial\\beta_1} \\\\\n",
                "    \\frac{\\partial^2 l(\\beta_0,\\beta_1|x_1,\\ldots,x_n,y_1,\\ldots,y_n)}{\\partial\\beta_1\\partial\\beta_0} & \\frac{\\partial^2 l(\\beta_0,\\beta_1|x_1,\\ldots,x_n,y_1,\\ldots,y_n)}{\\partial\\beta_1\\partial\\beta_1} \\\\\n",
                "  \\end{array} } \\right]$$\n",
                "  $$   = \\left[ {\\begin{array}{cc}\n",
                "    \\sum_{i=1}^n\\left(\\frac{-2y_i}{\\left(\\beta_0+\\beta_1 x_i\\right)^3}+\\frac{1}{\\left(\\beta_0+\\beta_1 x_i\\right)^2}\\right) & \\sum_{i=1}^n\\left(\\frac{-2x_iy_i}{\\left(\\beta_0+\\beta_1 x_i\\right)^3}+\\frac{x_i}{\\left(\\beta_0+\\beta_1 x_i\\right)^2}\\right) \\\\\n",
                "    \\sum_{i=1}^n\\left(\\frac{-2x_i y_i}{\\left(\\beta_0+\\beta_1 x_i\\right)^3}+\\frac{x_i}{\\left(\\beta_0+\\beta_1 x_i\\right)^2}\\right) & \\sum_{i=1}^n\\left(\\frac{-2x_i^2 y_i}{\\left(\\beta_0+\\beta_1 x_i\\right)^3}+\\frac{x_i^2}{\\left(\\beta_0+\\beta_1 x_i\\right)^2}\\right) \\\\\n",
                "  \\end{array} } \\right]$$\n",
                "\n",
                "  Since $\\beta_1$ is also unknown, the asymptotic variance of $\\beta_0$ is:\n",
                "\n",
                "  $$I^{\\beta_0\\beta_0}=n\\left(I_{\\beta_0\\beta_0}-I_{\\beta_0\\beta_1}I_{\\beta_1\\beta_1}^{-1}I_{\\beta_1\\beta_0}\\right)$$\n",
                "\n",
                "  $$=n\\left(\\sum_{i=1}^n\\left(\\frac{-2y_i}{\\left(\\beta_0+\\beta_1 x_i\\right)^3}+\\frac{1}{\\left(\\beta_0+\\beta_1 x_i\\right)^2}\\right)-\\frac{\\left(\\sum_{i=1}^n\\left(\\frac{-2x_iy_i}{\\left(\\beta_0+\\beta_1 x_i\\right)^3}+\\frac{x_i}{\\left(\\beta_0+\\beta_1 x_i\\right)^2}\\right)\\right)^2}{\\sum_{i=1}^n\\left(\\frac{-2x_i^2 y_i}{\\left(\\beta_0+\\beta_1 x_i\\right)^3}+\\frac{x_i^2}{\\left(\\beta_0+\\beta_1 x_i\\right)^2}\\right)}\\right)$$\n",
                "\n",
                "  (e) Since we cannot derive an unbiased estimator with asymptotic variance below the Cramér–Rao lower bound, it sets a standard to which we can hold any unbiased estimator we derive. \n",
                "\n",
                "  Using the inverse of the Fisher information matrix, the Cramér-Rao lower bound for $\\beta_0$ becomes:\n",
                "  \n",
                "  $$\\frac{I_{\\beta_1\\beta_1}}{I_{\\beta_0\\beta_0}I_{\\beta_1\\beta_1}-I_{\\beta_0\\beta_1}I_{\\beta_1\\beta_0}}$$\n",
                "\n",
                "  Similarly, the Cramér-Rao lower bound for $\\beta_1$ becomes:\n",
                "  \n",
                "  $$\\frac{I_{\\beta_0\\beta_0}}{I_{\\beta_0\\beta_0}I_{\\beta_1\\beta_1}-I_{\\beta_0\\beta_1}I_{\\beta_1\\beta_0}}$$\n",
                "\n",
                "  3. (a) \n",
                "\n",
                "  $$f_X(x)=\\int_{-\\infty}^\\infty f(x, p) dp$$"
            ]
        }
    ],
    "metadata": {
        "authors": [
            {
                "name": "Dylan Meysmans (02113915)"
            }
        ],
        "kernelspec": {
            "display_name": "R",
            "language": "R",
            "name": "ir"
        },
        "language_info": {
            "codemirror_mode": "r",
            "file_extension": ".r",
            "mimetype": "text/x-r-source",
            "name": "R",
            "pygments_lexer": "r",
            "version": "4.1.3"
        },
        "orig_nbformat": 4,
        "title": "Statistical Inference - Homework 1"
    },
    "nbformat": 4,
    "nbformat_minor": 2
}
