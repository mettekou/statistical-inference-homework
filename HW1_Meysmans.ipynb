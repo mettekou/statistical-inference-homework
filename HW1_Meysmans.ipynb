{
    "cells": [
        {
            "cell_type": "markdown",
            "metadata": {},
            "source": [
                "1.\n",
                "    (a) Let $x_1,\\ldots,x_n$ be the realized (i.e. sample) values of the $X_1,\\ldots,X_n$ random variables. The likelihood function $L$ is:\n",
                "\n",
                "    $$L(\\mu_1,\\ldots,\\mu_k,\\sigma_1,\\ldots,\\sigma_k,p_1,\\ldots,p_k|x_1,\\ldots,x_n)=\\prod_{i=1}^n\\left(\\sum_{k=1}^K\\frac{p_k}{{\\sigma_k \\sqrt {2\\pi } }}e^{{\\frac{- \\left( {x_i-\\mu_k} \\right)^2 }{2\\sigma_k ^2 }}}\\right)$$\n",
                "\n",
                "    Which makes the log likelihood function $l$:\n",
                "\n",
                "    $$l(\\mu_1,\\ldots,\\mu_k,\\sigma_1,\\ldots,\\sigma_k,p_1,\\ldots,p_k|x_1,\\ldots,x_n)=\\sum_{i=1}^n\\log\\left(\\sum_{k=1}^K\\frac{p_k}{{\\sigma_k \\sqrt {2\\pi } }}e^{{\\frac{- \\left( {x_i-\\mu_k } \\right)^2 }{2\\sigma_k ^2 }}}\\right)$$\n",
                "\n",
                "    (b) In case of $K=2$ and for known $\\sigma_1$, $\\sigma_2$, $p_1$, and $p_2$, the log likelihood function $l$ degrades to:\n",
                "\n",
                "    $$l(\\mu_1,\\mu_2|x_1,\\ldots,x_n)=\\sum_{i=1}^n\\log\\left(\\frac{p_1}{{\\sigma_1 \\sqrt {2\\pi } }}e^{{\\frac{- \\left( {x_i-\\mu_1 } \\right)^2 }{2\\sigma_1 ^2 }}}+\\frac{p_2}{{\\sigma_2 \\sqrt {2\\pi } }}e^{{\\frac{- \\left( {x_i-\\mu_2 } \\right)^2 }{2\\sigma_2 ^2 }}}\\right)$$\n",
                "\n",
                "    Which makes the score functions in $\\mu_1$ and $\\mu_2$:\n",
                "\n",
                "    $$\\frac{\\partial l(\\mu_1,\\mu_2|x_1,\\ldots,x_n)}{\\partial\\mu_1}=\\sum_{i=1}^n\\frac{\\frac{p_1(x_i-\\mu_1)}{{\\sigma_1^3 \\sqrt {2\\pi } }}e^{{\\frac{- \\left( {x_i-\\mu_1 } \\right)^2 }{2\\sigma_1 ^2 }}}}{\\frac{p_1}{{\\sigma_1 \\sqrt {2\\pi } }}e^{{\\frac{- \\left( {x_i-\\mu_1 } \\right)^2 }{2\\sigma_1 ^2 }}}+\\frac{p_2}{{\\sigma_2 \\sqrt {2\\pi } }}e^{{\\frac{- \\left( {x_i-\\mu_2 } \\right)^2 }{2\\sigma_2 ^2 }}}}$$\n",
                "\n",
                "    $$\\frac{\\partial l(\\mu_1,\\mu_2|x_1,\\ldots,x_n)}{\\partial\\mu_2}=\\sum_{i=1}^n\\frac{\\frac{p_2(x_i-\\mu_2)}{{\\sigma_2^3 \\sqrt {2\\pi } }}e^{{\\frac{- \\left( {x_i-\\mu_2 } \\right)^2 }{2\\sigma_2 ^2 }}}}{\\frac{p_1}{{\\sigma_1 \\sqrt {2\\pi } }}e^{{\\frac{- \\left( {x_i-\\mu_1 } \\right)^2 }{2\\sigma_1 ^2 }}}+\\frac{p_2}{{\\sigma_2 \\sqrt {2\\pi } }}e^{{\\frac{- \\left( {x_i-\\mu_2 } \\right)^2 }{2\\sigma_2 ^2 }}}}$$\n",
                "\n",
                "    The estimating equations then become:\n",
                "\n",
                "    $$\\sum_{i=1}^n\\frac{\\frac{p_1(x_i-\\mu_1)}{{\\sigma_1^3 \\sqrt {2\\pi } }}e^{{\\frac{- \\left( {x_i-\\mu_1 } \\right)^2 }{2\\sigma_1 ^2 }}}}{\\frac{p_1}{{\\sigma_1 \\sqrt {2\\pi } }}e^{{\\frac{- \\left( {x_i-\\mu_1 } \\right)^2 }{2\\sigma_1 ^2 }}}+\\frac{p_2}{{\\sigma_2 \\sqrt {2\\pi } }}e^{{\\frac{- \\left( {x_i-\\mu_2 } \\right)^2 }{2\\sigma_2 ^2 }}}}=0$$\n",
                "\n",
                "    $$\\sum_{i=1}^n\\frac{\\frac{p_2(x_i-\\mu_2)}{{\\sigma_2^3 \\sqrt {2\\pi } }}e^{{\\frac{- \\left( {x_i-\\mu_2 } \\right)^2 }{2\\sigma_2 ^2 }}}}{\\frac{p_1}{{\\sigma_1 \\sqrt {2\\pi } }}e^{{\\frac{- \\left( {x_i-\\mu_1 } \\right)^2 }{2\\sigma_1 ^2 }}}+\\frac{p_2}{{\\sigma_2 \\sqrt {2\\pi } }}e^{{\\frac{- \\left( {x_i-\\mu_2 } \\right)^2 }{2\\sigma_2 ^2 }}}}=0$$\n",
                "\n",
                "    (c)\n",
                "        i. We use a Bernoulli random variable to represent stochastic membership of a Gaussian in the mixture model. "
            ]
        },
        {
            "cell_type": "code",
            "execution_count": 5,
            "metadata": {},
            "outputs": [
                {
                    "name": "stdout",
                    "output_type": "stream",
                    "text": [
                        "number of iterations= 8 \n",
                        "number of iterations= 9 \n",
                        "number of iterations= 8 \n",
                        "number of iterations= 6 \n",
                        "number of iterations= 8 \n",
                        "number of iterations= 7 \n",
                        "number of iterations= 6 \n",
                        "number of iterations= 8 \n",
                        "number of iterations= 10 \n",
                        "number of iterations= 15 \n",
                        "number of iterations= 8 \n",
                        "number of iterations= 7 \n",
                        "number of iterations= 9 \n",
                        "number of iterations= 8 \n",
                        "number of iterations= 7 \n",
                        "WARNING! NOT CONVERGENT! \n",
                        "number of iterations= 1000 \n",
                        "number of iterations= 8 \n",
                        "number of iterations= 7 \n",
                        "number of iterations= 10 \n",
                        "number of iterations= 9 \n",
                        "number of iterations= 9 \n",
                        "number of iterations= 22 \n",
                        "number of iterations= 8 \n",
                        "number of iterations= 13 \n",
                        "number of iterations= 8 \n",
                        "number of iterations= 9 \n",
                        "number of iterations= 9 \n",
                        "number of iterations= 8 \n",
                        "number of iterations= 6 \n",
                        "number of iterations= 12 \n",
                        "number of iterations= 11 \n",
                        "number of iterations= 5 \n",
                        "number of iterations= 12 \n",
                        "number of iterations= 8 \n",
                        "number of iterations= 10 \n",
                        "number of iterations= 6 \n",
                        "number of iterations= 10 \n",
                        "number of iterations= 13 \n",
                        "number of iterations= 7 \n",
                        "number of iterations= 13 \n",
                        "number of iterations= 11 \n",
                        "number of iterations= 14 \n",
                        "number of iterations= 6 \n",
                        "number of iterations= 10 \n",
                        "number of iterations= 13 \n",
                        "number of iterations= 9 \n",
                        "number of iterations= 6 \n",
                        "number of iterations= 7 \n",
                        "number of iterations= 7 \n",
                        "number of iterations= 7 \n",
                        "number of iterations= 8 \n",
                        "number of iterations= 9 \n",
                        "number of iterations= 9 \n",
                        "number of iterations= 7 \n",
                        "number of iterations= 11 \n",
                        "number of iterations= 16 \n",
                        "number of iterations= 8 \n",
                        "number of iterations= 10 \n",
                        "number of iterations= 6 \n",
                        "number of iterations= 12 \n",
                        "number of iterations= 8 \n",
                        "number of iterations= 8 \n",
                        "number of iterations= 6 \n",
                        "number of iterations= 9 \n",
                        "number of iterations= 9 \n",
                        "number of iterations= 9 \n",
                        "number of iterations= 11 \n",
                        "number of iterations= 8 \n",
                        "number of iterations= 8 \n",
                        "number of iterations= 10 \n",
                        "number of iterations= 7 \n",
                        "number of iterations= 43 \n",
                        "number of iterations= 8 \n",
                        "number of iterations= 8 \n",
                        "number of iterations= 8 \n",
                        "number of iterations= 6 \n",
                        "number of iterations= 8 \n",
                        "number of iterations= 11 \n",
                        "number of iterations= 12 \n",
                        "number of iterations= 8 \n",
                        "number of iterations= 7 \n",
                        "number of iterations= 5 \n",
                        "number of iterations= 8 \n",
                        "number of iterations= 6 \n",
                        "number of iterations= 9 \n",
                        "number of iterations= 13 \n",
                        "number of iterations= 9 \n",
                        "number of iterations= 6 \n",
                        "number of iterations= 6 \n",
                        "number of iterations= 8 \n",
                        "number of iterations= 798 \n",
                        "number of iterations= 8 \n",
                        "number of iterations= 6 \n",
                        "number of iterations= 10 \n",
                        "number of iterations= 10 \n",
                        "number of iterations= 9 \n",
                        "number of iterations= 9 \n",
                        "number of iterations= 9 \n",
                        "number of iterations= 12 \n",
                        "number of iterations= 7 \n"
                    ]
                },
                {
                    "data": {
                        "text/html": [
                            "<style>\n",
                            ".list-inline {list-style: none; margin:0; padding: 0}\n",
                            ".list-inline>li {display: inline-block}\n",
                            ".list-inline>li:not(:last-child)::after {content: \"\\00b7\"; padding: 0 .5ex}\n",
                            "</style>\n",
                            "<ol class=list-inline><li>-2.18070866738871</li><li>2.96279487831479</li></ol>\n"
                        ],
                        "text/latex": [
                            "\\begin{enumerate*}\n",
                            "\\item -2.18070866738871\n",
                            "\\item 2.96279487831479\n",
                            "\\end{enumerate*}\n"
                        ],
                        "text/markdown": [
                            "1. -2.18070866738871\n",
                            "2. 2.96279487831479\n",
                            "\n",
                            "\n"
                        ],
                        "text/plain": [
                            "[1] -2.180709  2.962795"
                        ]
                    },
                    "metadata": {},
                    "output_type": "display_data"
                }
            ],
            "source": [
                "library(mixtools)\n",
                "\n",
                "set.seed(12345)\n",
                "\n",
                "sigma <- 1\n",
                "mu.1 <- -2\n",
                "mu.2 <- 3\n",
                "n <- 100\n",
                "B <- 100\n",
                "mu.1.sim <- vector(mode = \"numeric\", length = B)\n",
                "mu.2.sim <- vector(mode = \"numeric\", length = B)\n",
                "\n",
                "rmix <- function() {\n",
                "    p <- rbinom(1, size = 1, prob = 0.3)\n",
                "    ifelse(p, rnorm(1, mean = mu.1, sd = sigma), rnorm(1, mean = mu.2, sd = sigma))\n",
                "}\n",
                "\n",
                "for (i in 1:B) {\n",
                "    y <- replicate(n, expr = rmix())\n",
                "    mix <- normalmixEM(y, sigma = sigma)\n",
                "    mu.1.sim[i] <- mix$mu[1]\n",
                "    mu.2.sim[i] <- mix$mu[2]\n",
                "}"
            ]
        },
        {
            "cell_type": "markdown",
            "metadata": {},
            "source": [
                "2. (a) Let $z_1,\\ldots,z_n$ be the realized (i.e. sample) values of the $Z_1,\\ldots,Z_n$ random variables and $\\text{Ind}(p)$ be the indicator function which equals $1$ when the predicate $p$ holds and $0$ when it does not. If we assume the $Z_1,\\ldots,Z_n$ are independent, the likelihood function $L$ is then:\n",
                "    \n",
                "    $$L(\\theta|z_1,\\ldots,z_n,m_1,m_2)=\\prod_{i=1}^n\\left(\\theta\\exp\\left(-\\theta z_i\\right)\\right)^{\\text{Ind}(z_i\\in[m_1,m_2])}$$\n",
                "\n",
                "    Which makes the log likelihood function $l$:\n",
                "    $$l(\\theta|z_1,\\ldots,z_n,m_1,m_2)=\\sum_{i=1}^n\\text{Ind}(z_i\\in[m_1,m_2])(\\log\\left(\\theta\\right)-\\theta z_i)$$\n",
                "\n",
                "    (b)"
            ]
        },
        {
            "cell_type": "code",
            "execution_count": 19,
            "metadata": {},
            "outputs": [
                {
                    "name": "stderr",
                    "output_type": "stream",
                    "text": [
                        "Warning message in log(theta):\n",
                        "“NaNs produced”\n",
                        "Warning message in nlm(function(theta) {:\n",
                        "“NA/Inf replaced by maximum positive value”\n",
                        "Warning message in log(theta):\n",
                        "“NaNs produced”\n",
                        "Warning message in nlm(function(theta) {:\n",
                        "“NA/Inf replaced by maximum positive value”\n"
                    ]
                },
                {
                    "data": {
                        "text/html": [
                            "<dl>\n",
                            "\t<dt>$minimum</dt>\n",
                            "\t\t<dd>15.1345592126668</dd>\n",
                            "\t<dt>$estimate</dt>\n",
                            "\t\t<dd>0.218181833407177</dd>\n",
                            "\t<dt>$gradient</dt>\n",
                            "\t\t<dd>-6.60804744256893e-09</dd>\n",
                            "\t<dt>$code</dt>\n",
                            "\t\t<dd>1</dd>\n",
                            "\t<dt>$iterations</dt>\n",
                            "\t\t<dd>8</dd>\n",
                            "</dl>\n"
                        ],
                        "text/latex": [
                            "\\begin{description}\n",
                            "\\item[\\$minimum] 15.1345592126668\n",
                            "\\item[\\$estimate] 0.218181833407177\n",
                            "\\item[\\$gradient] -6.60804744256893e-09\n",
                            "\\item[\\$code] 1\n",
                            "\\item[\\$iterations] 8\n",
                            "\\end{description}\n"
                        ],
                        "text/markdown": [
                            "$minimum\n",
                            ":   15.1345592126668\n",
                            "$estimate\n",
                            ":   0.218181833407177\n",
                            "$gradient\n",
                            ":   -6.60804744256893e-09\n",
                            "$code\n",
                            ":   1\n",
                            "$iterations\n",
                            ":   8\n",
                            "\n",
                            "\n"
                        ],
                        "text/plain": [
                            "$minimum\n",
                            "[1] 15.13456\n",
                            "\n",
                            "$estimate\n",
                            "[1] 0.2181818\n",
                            "\n",
                            "$gradient\n",
                            "[1] -6.608047e-09\n",
                            "\n",
                            "$code\n",
                            "[1] 1\n",
                            "\n",
                            "$iterations\n",
                            "[1] 8\n"
                        ]
                    },
                    "metadata": {},
                    "output_type": "display_data"
                }
            ],
            "source": [
                "m.1 <- 1\n",
                "m.2 <- 20\n",
                "n <- 6\n",
                "z <- c(1.5, 2, 3, 4, 5, 12)\n",
                "\n",
                "log.likelihood <- function(theta) {\n",
                "    sum((z >= m.1 & z <= m.2) * (log(theta) - theta * z))\n",
                "}\n",
                "\n",
                "# plot(x = seq(0, 1, by = 0.01), y = Map(log.likelihood, seq(0, 1, by = 0.01)))\n",
                "\n",
                "nlm(function (theta) { -log.likelihood(theta) }, 0.5)$estimate"
            ]
        },
        {
            "cell_type": "markdown",
            "metadata": {},
            "source": [
                "(c) $$L(\\beta_0,\\beta_1|x_1,\\ldots,x_n,y_1,\\ldots,y_n)=\\prod_{i=1}^n\\frac{\\exp\\left(-\\frac{y_i}{\\beta_0+\\beta_1 x_i}\\right)}{\\beta_0+\\beta_1 x_i}$$\n",
                "\n",
                "$$l(\\beta_0,\\beta_1|x_1,\\ldots,x_n,y_1,\\ldots,y_n)=\\sum_{i=1}^n\\frac{-y_i}{\\beta_0+\\beta_1 x_i}-\\log(\\beta_0+\\beta_1 x_i)$$\n",
                "\n",
                "$$\\frac{\\partial l(\\beta_0,\\beta_1|x_1,\\ldots,x_n,y_1,\\ldots,y_n)}{\\partial\\beta_0}=\\frac{y_i}{\\left(\\beta_0+\\beta_1 x_i\\right)^2}-\\frac{1}{\\beta_0+\\beta_1 x_i}$$\n",
                "\n",
                "$$\\frac{\\partial l(\\beta_0,\\beta_1|x_1,\\ldots,x_n,y_1,\\ldots,y_n)}{\\partial\\beta_1}=$$"
            ]
        }
    ],
    "metadata": {
        "authors": [
            {
                "name": "Dylan Meysmans"
            }
        ],
        "kernelspec": {
            "display_name": "R",
            "language": "R",
            "name": "ir"
        },
        "language_info": {
            "codemirror_mode": "r",
            "file_extension": ".r",
            "mimetype": "text/x-r-source",
            "name": "R",
            "pygments_lexer": "r",
            "version": "4.1.3"
        },
        "orig_nbformat": 4,
        "title": "Statistical Inference - Homework 1"
    },
    "nbformat": 4,
    "nbformat_minor": 2
}
